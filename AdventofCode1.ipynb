{
 "cells": [
  {
   "cell_type": "code",
   "execution_count": 1,
   "id": "b1695824",
   "metadata": {},
   "outputs": [],
   "source": [
    "import numpy as np\n",
    "import pandas as pd\n",
    "import matplotlib.pyplot as plt\n",
    "import geopandas as gpd\n",
    "from geopandas import GeoDataFrame\n",
    "import shapely\n",
    "from shapely.geometry import Point\n",
    "import plotly.express as px"
   ]
  },
  {
   "cell_type": "code",
   "execution_count": 7,
   "id": "601dee87",
   "metadata": {},
   "outputs": [],
   "source": [
    "df = pd.read_csv('elf1.csv')"
   ]
  },
  {
   "cell_type": "code",
   "execution_count": 8,
   "id": "2a3c7f7a",
   "metadata": {},
   "outputs": [
    {
     "data": {
      "text/html": [
       "<div>\n",
       "<style scoped>\n",
       "    .dataframe tbody tr th:only-of-type {\n",
       "        vertical-align: middle;\n",
       "    }\n",
       "\n",
       "    .dataframe tbody tr th {\n",
       "        vertical-align: top;\n",
       "    }\n",
       "\n",
       "    .dataframe thead th {\n",
       "        text-align: right;\n",
       "    }\n",
       "</style>\n",
       "<table border=\"1\" class=\"dataframe\">\n",
       "  <thead>\n",
       "    <tr style=\"text-align: right;\">\n",
       "      <th></th>\n",
       "      <th>Cal</th>\n",
       "    </tr>\n",
       "  </thead>\n",
       "  <tbody>\n",
       "    <tr>\n",
       "      <th>0</th>\n",
       "      <td>2832</td>\n",
       "    </tr>\n",
       "    <tr>\n",
       "      <th>1</th>\n",
       "      <td>2108</td>\n",
       "    </tr>\n",
       "    <tr>\n",
       "      <th>2</th>\n",
       "      <td>3082</td>\n",
       "    </tr>\n",
       "    <tr>\n",
       "      <th>3</th>\n",
       "      <td>4328</td>\n",
       "    </tr>\n",
       "    <tr>\n",
       "      <th>4</th>\n",
       "      <td>6843</td>\n",
       "    </tr>\n",
       "    <tr>\n",
       "      <th>5</th>\n",
       "      <td>5121</td>\n",
       "    </tr>\n",
       "    <tr>\n",
       "      <th>6</th>\n",
       "      <td>2869</td>\n",
       "    </tr>\n",
       "    <tr>\n",
       "      <th>7</th>\n",
       "      <td>1366</td>\n",
       "    </tr>\n",
       "    <tr>\n",
       "      <th>8</th>\n",
       "      <td>2358</td>\n",
       "    </tr>\n",
       "    <tr>\n",
       "      <th>9</th>\n",
       "      <td>1680</td>\n",
       "    </tr>\n",
       "    <tr>\n",
       "      <th>10</th>\n",
       "      <td>4980</td>\n",
       "    </tr>\n",
       "    <tr>\n",
       "      <th>11</th>\n",
       "      <td>1161</td>\n",
       "    </tr>\n",
       "    <tr>\n",
       "      <th>12</th>\n",
       "      <td>,</td>\n",
       "    </tr>\n",
       "    <tr>\n",
       "      <th>13</th>\n",
       "      <td>8026</td>\n",
       "    </tr>\n",
       "    <tr>\n",
       "      <th>14</th>\n",
       "      <td>2154</td>\n",
       "    </tr>\n",
       "    <tr>\n",
       "      <th>15</th>\n",
       "      <td>4242</td>\n",
       "    </tr>\n",
       "    <tr>\n",
       "      <th>16</th>\n",
       "      <td>1023</td>\n",
       "    </tr>\n",
       "    <tr>\n",
       "      <th>17</th>\n",
       "      <td>2744</td>\n",
       "    </tr>\n",
       "    <tr>\n",
       "      <th>18</th>\n",
       "      <td>3162</td>\n",
       "    </tr>\n",
       "    <tr>\n",
       "      <th>19</th>\n",
       "      <td>4093</td>\n",
       "    </tr>\n",
       "  </tbody>\n",
       "</table>\n",
       "</div>"
      ],
      "text/plain": [
       "     Cal\n",
       "0   2832\n",
       "1   2108\n",
       "2   3082\n",
       "3   4328\n",
       "4   6843\n",
       "5   5121\n",
       "6   2869\n",
       "7   1366\n",
       "8   2358\n",
       "9   1680\n",
       "10  4980\n",
       "11  1161\n",
       "12     ,\n",
       "13  8026\n",
       "14  2154\n",
       "15  4242\n",
       "16  1023\n",
       "17  2744\n",
       "18  3162\n",
       "19  4093"
      ]
     },
     "execution_count": 8,
     "metadata": {},
     "output_type": "execute_result"
    }
   ],
   "source": [
    "df[:20]"
   ]
  },
  {
   "cell_type": "code",
   "execution_count": 19,
   "id": "4b8e8254",
   "metadata": {},
   "outputs": [],
   "source": [
    "count = 0\n",
    "total = []\n",
    "for a in df[\"Cal\"]:\n",
    "    if a == \",\":\n",
    "        total.append(count)\n",
    "        count = 0\n",
    "    else:\n",
    "        count = count + int(a)"
   ]
  },
  {
   "cell_type": "code",
   "execution_count": null,
   "id": "6aa49c89",
   "metadata": {},
   "outputs": [],
   "source": []
  },
  {
   "cell_type": "code",
   "execution_count": 25,
   "id": "aa55bfb8",
   "metadata": {},
   "outputs": [],
   "source": [
    "maxi = 0\n",
    "elf = 0\n",
    "\n",
    "for i in range(len(total)):\n",
    "    curr = int(total[i])\n",
    "    if curr > maxi:\n",
    "        maxi = curr\n",
    "        elf = i+1"
   ]
  },
  {
   "cell_type": "code",
   "execution_count": 22,
   "id": "364e1912",
   "metadata": {},
   "outputs": [
    {
     "data": {
      "text/plain": [
       "247"
      ]
     },
     "execution_count": 22,
     "metadata": {},
     "output_type": "execute_result"
    }
   ],
   "source": [
    "len(total)"
   ]
  },
  {
   "cell_type": "code",
   "execution_count": 26,
   "id": "9546b1d2",
   "metadata": {},
   "outputs": [
    {
     "name": "stdout",
     "output_type": "stream",
     "text": [
      "67622\n",
      "11\n"
     ]
    }
   ],
   "source": [
    "print(maxi)\n",
    "\n",
    "print(elf)"
   ]
  },
  {
   "cell_type": "code",
   "execution_count": 27,
   "id": "dc748c58",
   "metadata": {},
   "outputs": [
    {
     "name": "stdout",
     "output_type": "stream",
     "text": [
      "66377\n",
      "67492\n",
      "67622\n"
     ]
    }
   ],
   "source": [
    "#Part 2\n",
    "one = 0\n",
    "elf1 = 0\n",
    "two = 0\n",
    "elf2 = 0\n",
    "three = 0\n",
    "elf3 = 0\n",
    "\n",
    "for i in range(len(total)):\n",
    "    curr = int(total[i])\n",
    "    if curr > one:\n",
    "        three = two\n",
    "        elf3 = elf2\n",
    "        two = one\n",
    "        elf2 = elf1\n",
    "        one = curr\n",
    "        elf1 = i+1\n",
    "    if curr < one and curr > two:\n",
    "        three = two\n",
    "        elf3 = elf2\n",
    "        two = curr\n",
    "        elf2 = i+1\n",
    "    if curr < two and curr > three:\n",
    "        three = curr\n",
    "        elf3 = i+1\n",
    "print(three)\n",
    "print(two)\n",
    "print(one)\n",
    "        "
   ]
  },
  {
   "cell_type": "code",
   "execution_count": 28,
   "id": "e11c1759",
   "metadata": {},
   "outputs": [
    {
     "data": {
      "text/plain": [
       "201491"
      ]
     },
     "execution_count": 28,
     "metadata": {},
     "output_type": "execute_result"
    }
   ],
   "source": [
    "three+two+one"
   ]
  },
  {
   "cell_type": "code",
   "execution_count": null,
   "id": "e34b9d53",
   "metadata": {},
   "outputs": [],
   "source": []
  }
 ],
 "metadata": {
  "kernelspec": {
   "display_name": "Python 3 (ipykernel)",
   "language": "python",
   "name": "python3"
  },
  "language_info": {
   "codemirror_mode": {
    "name": "ipython",
    "version": 3
   },
   "file_extension": ".py",
   "mimetype": "text/x-python",
   "name": "python",
   "nbconvert_exporter": "python",
   "pygments_lexer": "ipython3",
   "version": "3.9.7"
  }
 },
 "nbformat": 4,
 "nbformat_minor": 5
}
