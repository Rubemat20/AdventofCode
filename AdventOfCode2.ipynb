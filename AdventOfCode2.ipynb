{
 "cells": [
  {
   "cell_type": "code",
   "execution_count": 1,
   "id": "c4084d2f",
   "metadata": {},
   "outputs": [],
   "source": [
    "import numpy as np\n",
    "import pandas as pd\n",
    "import matplotlib.pyplot as plt\n",
    "import geopandas as gpd\n",
    "from geopandas import GeoDataFrame\n",
    "import shapely\n",
    "from shapely.geometry import Point\n",
    "import plotly.express as px"
   ]
  },
  {
   "cell_type": "code",
   "execution_count": 28,
   "id": "77385166",
   "metadata": {},
   "outputs": [],
   "source": [
    "df = pd.read_csv('input.csv', header=None)"
   ]
  },
  {
   "cell_type": "code",
   "execution_count": null,
   "id": "649ea350",
   "metadata": {},
   "outputs": [],
   "source": []
  },
  {
   "cell_type": "code",
   "execution_count": 29,
   "id": "130b4f79",
   "metadata": {},
   "outputs": [
    {
     "data": {
      "text/html": [
       "<div>\n",
       "<style scoped>\n",
       "    .dataframe tbody tr th:only-of-type {\n",
       "        vertical-align: middle;\n",
       "    }\n",
       "\n",
       "    .dataframe tbody tr th {\n",
       "        vertical-align: top;\n",
       "    }\n",
       "\n",
       "    .dataframe thead th {\n",
       "        text-align: right;\n",
       "    }\n",
       "</style>\n",
       "<table border=\"1\" class=\"dataframe\">\n",
       "  <thead>\n",
       "    <tr style=\"text-align: right;\">\n",
       "      <th></th>\n",
       "      <th>0</th>\n",
       "    </tr>\n",
       "  </thead>\n",
       "  <tbody>\n",
       "    <tr>\n",
       "      <th>0</th>\n",
       "      <td>C Y</td>\n",
       "    </tr>\n",
       "    <tr>\n",
       "      <th>1</th>\n",
       "      <td>C Y</td>\n",
       "    </tr>\n",
       "    <tr>\n",
       "      <th>2</th>\n",
       "      <td>B Y</td>\n",
       "    </tr>\n",
       "    <tr>\n",
       "      <th>3</th>\n",
       "      <td>A Z</td>\n",
       "    </tr>\n",
       "    <tr>\n",
       "      <th>4</th>\n",
       "      <td>B Z</td>\n",
       "    </tr>\n",
       "    <tr>\n",
       "      <th>...</th>\n",
       "      <td>...</td>\n",
       "    </tr>\n",
       "    <tr>\n",
       "      <th>2495</th>\n",
       "      <td>A Y</td>\n",
       "    </tr>\n",
       "    <tr>\n",
       "      <th>2496</th>\n",
       "      <td>B Z</td>\n",
       "    </tr>\n",
       "    <tr>\n",
       "      <th>2497</th>\n",
       "      <td>B Y</td>\n",
       "    </tr>\n",
       "    <tr>\n",
       "      <th>2498</th>\n",
       "      <td>B Z</td>\n",
       "    </tr>\n",
       "    <tr>\n",
       "      <th>2499</th>\n",
       "      <td>B X</td>\n",
       "    </tr>\n",
       "  </tbody>\n",
       "</table>\n",
       "<p>2500 rows × 1 columns</p>\n",
       "</div>"
      ],
      "text/plain": [
       "        0\n",
       "0     C Y\n",
       "1     C Y\n",
       "2     B Y\n",
       "3     A Z\n",
       "4     B Z\n",
       "...   ...\n",
       "2495  A Y\n",
       "2496  B Z\n",
       "2497  B Y\n",
       "2498  B Z\n",
       "2499  B X\n",
       "\n",
       "[2500 rows x 1 columns]"
      ]
     },
     "execution_count": 29,
     "metadata": {},
     "output_type": "execute_result"
    }
   ],
   "source": [
    "df"
   ]
  },
  {
   "cell_type": "code",
   "execution_count": 30,
   "id": "9a00d55c",
   "metadata": {},
   "outputs": [
    {
     "name": "stdout",
     "output_type": "stream",
     "text": [
      "C Y\n"
     ]
    }
   ],
   "source": [
    "print(df[0][0])\n",
    "for i in range(len(df[0])):\n",
    "    #print(a.split(\" \"))\n",
    "    a = df[0][i]\n",
    "    df[0][i] =a.split(\" \")"
   ]
  },
  {
   "cell_type": "code",
   "execution_count": 31,
   "id": "8690d304",
   "metadata": {},
   "outputs": [
    {
     "name": "stdout",
     "output_type": "stream",
     "text": [
      "C\n"
     ]
    }
   ],
   "source": [
    "print(df[0][0][0])"
   ]
  },
  {
   "cell_type": "code",
   "execution_count": 32,
   "id": "e56e825a",
   "metadata": {},
   "outputs": [
    {
     "name": "stdout",
     "output_type": "stream",
     "text": [
      "14827\n"
     ]
    }
   ],
   "source": [
    "# X Rock, Y Paper, Z Scissors\n",
    "total = 0\n",
    "for i in range(len(df[0])):\n",
    "    opp = df[0][i][0]\n",
    "    you = df[0][i][1]\n",
    "    if you == \"X\":\n",
    "        total += 1\n",
    "        if opp == \"A\":\n",
    "            total += 3\n",
    "        if opp == \"B\":\n",
    "            total += 0\n",
    "        if opp == \"C\":\n",
    "            total += 6\n",
    "    if you == \"Y\":\n",
    "        total += 2\n",
    "        if opp == \"A\":\n",
    "            total += 6\n",
    "        if opp == \"B\":\n",
    "            total += 3\n",
    "        if opp == \"C\":\n",
    "            total += 0\n",
    "    if you == \"Z\":\n",
    "        total += 3\n",
    "        if opp == \"A\":\n",
    "            total += 0\n",
    "        if opp == \"B\":\n",
    "            total += 6\n",
    "        if opp == \"C\":\n",
    "            total += 3\n",
    "print(total)"
   ]
  },
  {
   "cell_type": "code",
   "execution_count": 33,
   "id": "12280445",
   "metadata": {},
   "outputs": [
    {
     "name": "stdout",
     "output_type": "stream",
     "text": [
      "13889\n"
     ]
    }
   ],
   "source": [
    "# Part 2\n",
    "# X Lose, Y Draw, Z Win\n",
    "total = 0\n",
    "for i in range(len(df[0])):\n",
    "    opp = df[0][i][0]\n",
    "    you = df[0][i][1]\n",
    "    if you == \"X\":\n",
    "        total += 0\n",
    "        if opp == \"A\":\n",
    "            total += 3\n",
    "        if opp == \"B\":\n",
    "            total += 1\n",
    "        if opp == \"C\":\n",
    "            total += 2\n",
    "    if you == \"Y\":\n",
    "        total += 3\n",
    "        if opp == \"A\":\n",
    "            total += 1\n",
    "        if opp == \"B\":\n",
    "            total += 2\n",
    "        if opp == \"C\":\n",
    "            total += 3\n",
    "    if you == \"Z\":\n",
    "        total += 6\n",
    "        if opp == \"A\":\n",
    "            total += 2\n",
    "        if opp == \"B\":\n",
    "            total += 3\n",
    "        if opp == \"C\":\n",
    "            total += 1\n",
    "print(total)"
   ]
  },
  {
   "cell_type": "code",
   "execution_count": null,
   "id": "ec676183",
   "metadata": {},
   "outputs": [],
   "source": []
  }
 ],
 "metadata": {
  "kernelspec": {
   "display_name": "Python 3 (ipykernel)",
   "language": "python",
   "name": "python3"
  },
  "language_info": {
   "codemirror_mode": {
    "name": "ipython",
    "version": 3
   },
   "file_extension": ".py",
   "mimetype": "text/x-python",
   "name": "python",
   "nbconvert_exporter": "python",
   "pygments_lexer": "ipython3",
   "version": "3.9.7"
  }
 },
 "nbformat": 4,
 "nbformat_minor": 5
}
