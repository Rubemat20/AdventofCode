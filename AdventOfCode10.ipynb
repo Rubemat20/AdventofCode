{
 "cells": [
  {
   "cell_type": "code",
   "execution_count": 1,
   "id": "c4084d2f",
   "metadata": {},
   "outputs": [],
   "source": [
    "import numpy as np\n",
    "import pandas as pd\n",
    "import matplotlib.pyplot as plt\n",
    "import geopandas as gpd\n",
    "from geopandas import GeoDataFrame\n",
    "import shapely\n",
    "from shapely.geometry import Point\n",
    "import plotly.express as px"
   ]
  },
  {
   "cell_type": "code",
   "execution_count": 2,
   "id": "77385166",
   "metadata": {},
   "outputs": [
    {
     "data": {
      "text/html": [
       "<div>\n",
       "<style scoped>\n",
       "    .dataframe tbody tr th:only-of-type {\n",
       "        vertical-align: middle;\n",
       "    }\n",
       "\n",
       "    .dataframe tbody tr th {\n",
       "        vertical-align: top;\n",
       "    }\n",
       "\n",
       "    .dataframe thead th {\n",
       "        text-align: right;\n",
       "    }\n",
       "</style>\n",
       "<table border=\"1\" class=\"dataframe\">\n",
       "  <thead>\n",
       "    <tr style=\"text-align: right;\">\n",
       "      <th></th>\n",
       "      <th>0</th>\n",
       "    </tr>\n",
       "  </thead>\n",
       "  <tbody>\n",
       "    <tr>\n",
       "      <th>0</th>\n",
       "      <td>[noop]</td>\n",
       "    </tr>\n",
       "    <tr>\n",
       "      <th>1</th>\n",
       "      <td>[addx, 5]</td>\n",
       "    </tr>\n",
       "    <tr>\n",
       "      <th>2</th>\n",
       "      <td>[addx, -2]</td>\n",
       "    </tr>\n",
       "    <tr>\n",
       "      <th>3</th>\n",
       "      <td>[noop]</td>\n",
       "    </tr>\n",
       "    <tr>\n",
       "      <th>4</th>\n",
       "      <td>[noop]</td>\n",
       "    </tr>\n",
       "    <tr>\n",
       "      <th>...</th>\n",
       "      <td>...</td>\n",
       "    </tr>\n",
       "    <tr>\n",
       "      <th>141</th>\n",
       "      <td>[addx, 4]</td>\n",
       "    </tr>\n",
       "    <tr>\n",
       "      <th>142</th>\n",
       "      <td>[addx, 3]</td>\n",
       "    </tr>\n",
       "    <tr>\n",
       "      <th>143</th>\n",
       "      <td>[noop]</td>\n",
       "    </tr>\n",
       "    <tr>\n",
       "      <th>144</th>\n",
       "      <td>[addx, -24]</td>\n",
       "    </tr>\n",
       "    <tr>\n",
       "      <th>145</th>\n",
       "      <td>[noop]</td>\n",
       "    </tr>\n",
       "  </tbody>\n",
       "</table>\n",
       "<p>146 rows × 1 columns</p>\n",
       "</div>"
      ],
      "text/plain": [
       "               0\n",
       "0         [noop]\n",
       "1      [addx, 5]\n",
       "2     [addx, -2]\n",
       "3         [noop]\n",
       "4         [noop]\n",
       "..           ...\n",
       "141    [addx, 4]\n",
       "142    [addx, 3]\n",
       "143       [noop]\n",
       "144  [addx, -24]\n",
       "145       [noop]\n",
       "\n",
       "[146 rows x 1 columns]"
      ]
     },
     "execution_count": 2,
     "metadata": {},
     "output_type": "execute_result"
    }
   ],
   "source": [
    "df = pd.read_csv('input10.csv', header=None)\n",
    "for i in range(len(df[0])):\n",
    "    df[0][i] = df[0][i].split(\" \")\n",
    "df"
   ]
  },
  {
   "cell_type": "code",
   "execution_count": 3,
   "id": "649ea350",
   "metadata": {},
   "outputs": [
    {
     "name": "stdout",
     "output_type": "stream",
     "text": [
      "146\n",
      "20 19\n",
      "60 19\n",
      "100 21\n",
      "140 19\n",
      "180 21\n",
      "220 19\n",
      "14240\n"
     ]
    }
   ],
   "source": [
    "X = 1\n",
    "cycle = 0\n",
    "print(len(df[0]))\n",
    "total = 0\n",
    "for a in range(len(df[0])):\n",
    "    #print(a)\n",
    "    #print(\"C\",cycle)\n",
    "    if df[0][a][0] == \"noop\":\n",
    "        cycle +=1\n",
    "    else:\n",
    "        cycle +=2\n",
    "        X += int(df[0][a][1])\n",
    "    if (cycle-20) % 40 == 0:\n",
    "        print(cycle, X)\n",
    "        total += (cycle * X)\n",
    "    elif (cycle-20) % 40 == 1:\n",
    "        if (df[0][a][0] == \"noop\"):\n",
    "            #print(cycle-1, X)\n",
    "            continue\n",
    "        else:\n",
    "            print(cycle-1,X-int(df[0][a][1]))\n",
    "            total += (cycle-1) * (X-int(df[0][a][1]))\n",
    "print(total)"
   ]
  },
  {
   "cell_type": "code",
   "execution_count": 4,
   "id": "130b4f79",
   "metadata": {},
   "outputs": [
    {
     "name": "stdout",
     "output_type": "stream",
     "text": [
      " # # # - - # - - - - # - - # - # - - - - # - - # - # # # - - # # # # - # - - # -\n",
      " # - - # - # - - - - # - - # - # - - - - # - # - - # - - # - - - - # - # - - # -\n",
      " # - - # - # - - - - # - - # - # - - - - # # - - - # # # - - - - # - - # # # # -\n",
      " # # # - - # - - - - # - - # - # - - - - # - # - - # - - # - - # - - - # - - # -\n",
      " # - - - - # - - - - # - - # - # - - - - # - # - - # - - # - # - - - - # - - # -\n",
      " # - - - - # # # # - - # # - - # # # # - # - - # - # # # - - # # # # - # - - # -\n",
      "                                        \n",
      "                                        \n"
     ]
    }
   ],
   "source": [
    "#Part 2\n",
    "X = 1\n",
    "cycle = -1\n",
    "total = 0\n",
    "grid = np.empty([8,40], dtype=str)\n",
    "for a in range(len(df[0])):\n",
    "    draw = \"-\"\n",
    "    cycle +=1\n",
    "    row = int(cycle/40)\n",
    "    cell = cycle % 40\n",
    "    if cell == X-1 or cell == X or cell == X+1:\n",
    "        draw = \"#\"\n",
    "    grid[row][cell] = draw\n",
    "    if df[0][a][0] == \"addx\":\n",
    "        draw = \"-\"\n",
    "        cycle +=1\n",
    "        row = int(cycle/40)\n",
    "        cell = cycle % 40\n",
    "        if cell == X-1 or cell == X or cell == X+1:\n",
    "            draw = \"#\"\n",
    "        grid[row][cell] = draw\n",
    "        X += int(df[0][a][1])\n",
    "    if (cycle-20) % 40 == 0:\n",
    "        total += (cycle * X)\n",
    "    elif (cycle-20) % 40 == 1:\n",
    "        if (df[0][a][0] == \"noop\"):\n",
    "            continue\n",
    "        else:\n",
    "            total += (cycle-1) * (X-int(df[0][a][1]))\n",
    "for b in range(len(grid)):\n",
    "    temp = \"\"\n",
    "    sep = \" \"\n",
    "    for c in range(len(grid[b])):\n",
    "        temp = sep.join([temp,grid[b][c]])\n",
    "    print(temp)"
   ]
  },
  {
   "cell_type": "code",
   "execution_count": 5,
   "id": "1285b8fa",
   "metadata": {},
   "outputs": [],
   "source": [
    "#PLULKBZH"
   ]
  }
 ],
 "metadata": {
  "kernelspec": {
   "display_name": "Python 3 (ipykernel)",
   "language": "python",
   "name": "python3"
  },
  "language_info": {
   "codemirror_mode": {
    "name": "ipython",
    "version": 3
   },
   "file_extension": ".py",
   "mimetype": "text/x-python",
   "name": "python",
   "nbconvert_exporter": "python",
   "pygments_lexer": "ipython3",
   "version": "3.9.7"
  }
 },
 "nbformat": 4,
 "nbformat_minor": 5
}
